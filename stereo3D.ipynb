{
  "nbformat": 4,
  "nbformat_minor": 0,
  "metadata": {
    "colab": {
      "provenance": [],
      "authorship_tag": "ABX9TyOg9vU06zD339vLhvoLwLhb",
      "include_colab_link": true
    },
    "kernelspec": {
      "name": "python3",
      "display_name": "Python 3"
    },
    "language_info": {
      "name": "python"
    }
  },
  "cells": [
    {
      "cell_type": "markdown",
      "metadata": {
        "id": "view-in-github",
        "colab_type": "text"
      },
      "source": [
        "<a href=\"https://colab.research.google.com/github/Dev-Dhanush-hub/Computer_vision_finalproject/blob/main/stereo3D.ipynb\" target=\"_parent\"><img src=\"https://colab.research.google.com/assets/colab-badge.svg\" alt=\"Open In Colab\"/></a>"
      ]
    },
    {
      "cell_type": "code",
      "execution_count": null,
      "metadata": {
        "id": "EZchm8er_CfZ"
      },
      "outputs": [],
      "source": [
        "# Step 1: Install dependencies\n",
        "!pip install open3d==0.17.0\n",
        "!pip install imageio scikit-image gdown\n",
        "\n",
        "# Step 2: Import modules\n",
        "import os\n",
        "import cv2\n",
        "import gdown\n",
        "import numpy as np\n",
        "import matplotlib.pyplot as plt\n",
        "import open3d as o3d\n",
        "from PIL import Image\n"
      ]
    },
    {
      "cell_type": "code",
      "source": [
        "# Download stereo pair from Google Drive\n",
        "os.makedirs(\"data\", exist_ok=True)\n",
        "gdown.download(\"https://drive.google.com/uc?id=1wMtfweRhZvo5KHvJIfY-eBMEKj69AkgO\", \"data/left.png\", quiet=False)\n",
        "gdown.download(\"https://drive.google.com/uc?id=1uvOAVZ_mZstfqJgCybKoqz6zB6KT9XW2\", \"data/right.png\", quiet=False)\n",
        "\n",
        "# Load images\n",
        "left = cv2.imread(\"data/left.png\")\n",
        "right = cv2.imread(\"data/right.png\")\n",
        "\n",
        "# Convert to grayscale for stereo matching\n",
        "left_gray = cv2.cvtColor(left, cv2.COLOR_BGR2GRAY)\n",
        "right_gray = cv2.cvtColor(right, cv2.COLOR_BGR2GRAY)\n",
        "\n",
        "# Show input\n",
        "plt.subplot(1,2,1), plt.imshow(left[..., ::-1]), plt.title(\"Left Image\")\n",
        "plt.subplot(1,2,2), plt.imshow(right[..., ::-1]), plt.title(\"Right Image\")\n",
        "plt.show()\n"
      ],
      "metadata": {
        "id": "CQ9P6igCNEws"
      },
      "execution_count": null,
      "outputs": []
    },
    {
      "cell_type": "code",
      "source": [
        "# Create disparity map using OpenCV SGBM\n",
        "stereo = cv2.StereoSGBM_create(\n",
        "    minDisparity=0,\n",
        "    numDisparities=96,\n",
        "    blockSize=9,\n",
        "    P1=8 * 3 * 9 ** 2,\n",
        "    P2=32 * 3 * 9 ** 2,\n",
        "    disp12MaxDiff=1,\n",
        "    uniquenessRatio=15,\n",
        "    speckleWindowSize=50,\n",
        "    speckleRange=2,\n",
        "    preFilterCap=63,\n",
        "    mode=cv2.STEREO_SGBM_MODE_SGBM_3WAY\n",
        ")\n",
        "\n",
        "disparity_map = stereo.compute(left_gray, right_gray).astype(np.float32) / 16.0\n",
        "\n",
        "plt.imshow(disparity_map, cmap='plasma')\n",
        "plt.colorbar()\n",
        "plt.title(\"Disparity Map\")\n",
        "plt.show()\n"
      ],
      "metadata": {
        "id": "DPe_TyP8NHWJ"
      },
      "execution_count": null,
      "outputs": []
    },
    {
      "cell_type": "code",
      "source": [
        "# Create disparity map using OpenCV SGBM\n",
        "stereo = cv2.StereoSGBM_create(\n",
        "    minDisparity=0,\n",
        "    numDisparities=96,\n",
        "    blockSize=9,\n",
        "    P1=8 * 3 * 9 ** 2,\n",
        "    P2=32 * 3 * 9 ** 2,\n",
        "    disp12MaxDiff=1,\n",
        "    uniquenessRatio=15,\n",
        "    speckleWindowSize=50,\n",
        "    speckleRange=2,\n",
        "    preFilterCap=63,\n",
        "    mode=cv2.STEREO_SGBM_MODE_SGBM_3WAY\n",
        ")\n",
        "\n",
        "disparity_map = stereo.compute(left_gray, right_gray).astype(np.float32) / 16.0\n",
        "\n",
        "plt.imshow(disparity_map, cmap='plasma')\n",
        "plt.colorbar()\n",
        "plt.title(\"Disparity Map\")\n",
        "plt.show()\n"
      ],
      "metadata": {
        "id": "mZYLVHmENIRQ"
      },
      "execution_count": null,
      "outputs": []
    },
    {
      "cell_type": "code",
      "source": [
        "# Reproject to 3D using fake camera matrix Q (adjust for real use)\n",
        "h, w = disparity_map.shape\n",
        "f = 0.8 * w  # approximate focal length\n",
        "Q = np.float32([[1, 0, 0, -w/2],\n",
        "                [0, -1, 0, h/2],\n",
        "                [0, 0, 0, -f],\n",
        "                [0, 0, 1/0.1, 0]])  # baseline = 0.1m\n",
        "\n",
        "points_3d = cv2.reprojectImageTo3D(disparity_map, Q)\n",
        "colors = cv2.cvtColor(left, cv2.COLOR_BGR2RGB)\n",
        "mask = disparity_map > disparity_map.min()\n",
        "\n",
        "output_points = points_3d[mask]\n",
        "output_colors = colors[mask]\n",
        "\n",
        "pcd = o3d.geometry.PointCloud()\n",
        "pcd.points = o3d.utility.Vector3dVector(output_points)\n",
        "pcd.colors = o3d.utility.Vector3dVector(output_colors / 255.0)\n",
        "\n",
        "# Save point cloud\n",
        "o3d.io.write_point_cloud(\"scene.ply\", pcd)\n"
      ],
      "metadata": {
        "id": "IFkG60nlNJjE"
      },
      "execution_count": null,
      "outputs": []
    },
    {
      "cell_type": "code",
      "source": [
        "# Visualize interactively in Colab\n",
        "o3d.visualization.draw_geometries([pcd])\n"
      ],
      "metadata": {
        "id": "E8rqNaNxNK7t"
      },
      "execution_count": null,
      "outputs": []
    }
  ]
}